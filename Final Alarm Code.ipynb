{
 "cells": [
  {
   "cell_type": "markdown",
   "metadata": {},
   "source": [
    "# ALARM CLOCK BY DAGIM ABOYE, ROHAN MODY, MIKAEEL PUNJA"
   ]
  },
  {
   "cell_type": "markdown",
   "metadata": {},
   "source": [
    "# The project we are intending to create is an clock that also has the ability to run a timer and alarm based on specific inputs. Upon running the code the user will have the ability to input the option they desire; clock, alarm, or timer. If the user chooses “clock”, then the time will appear and show the exact time down to the seconds in pacific daylight time (GMT-7).                                       The clock will display a time as well as have alarms that will ring at certain input times. If the user chooses to use the alarm they will have to input a specific time and the alarm will ring at that time. It will indicate by printing the phrase “Time to wake up!”.                                                                                        If the user chooses the timer option, then the user will have to input time and the timer will countdown the time the user has provided. The timer will indicate its completion with the words “Time is up!”.\n"
   ]
  },
  {
   "cell_type": "code",
   "execution_count": 5,
   "metadata": {},
   "outputs": [
    {
     "name": "stdout",
     "output_type": "stream",
     "text": [
      "Would you like an alarm, clock, or timer: timer\n",
      "Enter number of hours\n",
      ">0\n",
      "Enter number of minutes\n",
      ">0\n",
      "Enter number of seconds\n",
      ">1\n",
      "TIME IS UP!!!\n"
     ]
    }
   ],
   "source": [
    "#want the user to be able to choose between four options, alarm, time, timer or stopwatch\n",
    "option = input(\"Would you like an alarm, clock, or timer: \")\n",
    "# when the user chooses alarm, they should be prompted to input a time they want on a 24 hour scale\n",
    "# The alarm should print the alarm time\n",
    "# The alarm should then take that input and compare it to the current time\n",
    "# the alarm should be kept until the current time meets the alarm time\n",
    "# Once the time reaches the alarm time, the code should tell the user to wake up or play a sound\n",
    "if option == 'alarm':\n",
    "    import time\n",
    "    import webbrowser\n",
    "    import random\n",
    "# The alarm should print the alarm time\n",
    "# The alarm should then take that input and compare it to the current time\n",
    "# the alarm should be kept until the current time meets the alarm time\n",
    "# Once the time reaches the alarm time, the code should tell the user to wake up\n",
    "    \n",
    "    print (\"What time do you want to wake up? \\nHH:MM:SS\")\n",
    "    Alarm = input(\"> \")\n",
    "    time_str = time.strftime(\"%H:%M:%S\")\n",
    "    from datetime import datetime\n",
    "    boo = False\n",
    "    while str(datetime.today())[11:-7] != Alarm and not boo:\n",
    "        print (\"The time is\", str(datetime.today())[11:-7], end=\"\\r\")\n",
    "        time.sleep(1)\n",
    "    if str(datetime.today())[11:-7] == Alarm:\n",
    "        print(\"                                                                           \",end=\"\\r\")\n",
    "        print (\"TIME TO WAKE UP!\")\n",
    "        boo = True\n",
    "        \n",
    "elif option == 'clock':\n",
    "#User asks for time\n",
    "#Time appears\n",
    "#Time is continously written over by new time to stop a giant list from forming\n",
    "    import time\n",
    "    time_str = time.strftime(\"%H:%M:%S\")\n",
    "    from datetime import datetime\n",
    "    while str(datetime.today())[11:-7]:\n",
    "        print (\"The time is\", str(datetime.today())[11:-7], end=\"\\r\")\n",
    "        time.sleep(1)\n",
    "        \n",
    "elif option == 'timer':\n",
    "#User inputs how many hours, minutes, and seconds they want for their timer\n",
    "    import time\n",
    "    hrs = (int(input(\"Enter number of hours\\n>\"))*3600)\n",
    "    mins = (int(input(\"Enter number of minutes\\n>\"))*60)\n",
    "    secs = int(input(\"Enter number of seconds\\n>\"))\n",
    "#timer converts everything to seconds and begins the countdown\n",
    "    secs = secs+mins+hrs\n",
    "    def countdown(secs, end=\"\\r\"):\n",
    "        \"\"\"countdown function starts the countdown from the total amount of seconds will continously write over the old countdown time with the new countdown time\"\"\"\n",
    "        while secs >= 0:\n",
    "            print(secs, end=\"\\r\")\n",
    "#The Countdown begins and is continously written over by the new time so to not have a giant list\n",
    "            secs-=1\n",
    "            time.sleep(1)\n",
    "    countdown(secs)\n",
    "    print(\"TIME IS UP!!!\")\n",
    "countdown?"
   ]
  },
  {
   "cell_type": "code",
   "execution_count": 3,
   "metadata": {},
   "outputs": [],
   "source": [
    "countdown?"
   ]
  },
  {
   "cell_type": "code",
   "execution_count": null,
   "metadata": {},
   "outputs": [],
   "source": []
  }
 ],
 "metadata": {
  "kernelspec": {
   "display_name": "Python 3",
   "language": "python",
   "name": "python3"
  },
  "language_info": {
   "codemirror_mode": {
    "name": "ipython",
    "version": 3
   },
   "file_extension": ".py",
   "mimetype": "text/x-python",
   "name": "python",
   "nbconvert_exporter": "python",
   "pygments_lexer": "ipython3",
   "version": "3.7.3"
  }
 },
 "nbformat": 4,
 "nbformat_minor": 2
}
